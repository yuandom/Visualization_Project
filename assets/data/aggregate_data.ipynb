{
 "cells": [
  {
   "cell_type": "code",
   "execution_count": 1,
   "metadata": {},
   "outputs": [],
   "source": [
    "import pandas as pd"
   ]
  },
  {
   "cell_type": "code",
   "execution_count": 5,
   "metadata": {},
   "outputs": [],
   "source": [
    "df = pd.read_excel(\"Skill_Penetration_by_Global_Industry.xlsx\", sheet_name='Skill Penetration')"
   ]
  },
  {
   "cell_type": "code",
   "execution_count": 7,
   "metadata": {},
   "outputs": [],
   "source": [
    "df.to_csv('Skill_Penetration_by_Global_Industry.csv',index=False)"
   ]
  },
  {
   "cell_type": "code",
   "execution_count": 20,
   "metadata": {},
   "outputs": [],
   "source": [
    "df = df.groupby(['skill_group_category','isic_section_name']).count()['year'].reset_index().rename(columns={'year':'aggregated_num'})"
   ]
  },
  {
   "cell_type": "code",
   "execution_count": 24,
   "metadata": {},
   "outputs": [],
   "source": [
    "df.to_csv('aggregated_high_level_num.csv')"
   ]
  },
  {
   "cell_type": "code",
   "execution_count": 23,
   "metadata": {},
   "outputs": [
    {
     "data": {
      "text/plain": [
       "[['Business Skills', 'Arts, entertainment and recreation ', 630],\n",
       " ['Business Skills', 'Financial and insurance activities', 710],\n",
       " ['Business Skills', 'Information and communication', 1420],\n",
       " ['Business Skills', 'Manufacturing', 1590],\n",
       " ['Business Skills', 'Mining and quarrying', 265],\n",
       " ['Business Skills', 'Professional scientific and technical activities', 2075],\n",
       " ['Disruptive Tech Skills', 'Arts, entertainment and recreation ', 85],\n",
       " ['Disruptive Tech Skills', 'Financial and insurance activities', 80],\n",
       " ['Disruptive Tech Skills', 'Information and communication', 270],\n",
       " ['Disruptive Tech Skills', 'Manufacturing', 255],\n",
       " ['Disruptive Tech Skills', 'Mining and quarrying', 45],\n",
       " ['Disruptive Tech Skills',\n",
       "  'Professional scientific and technical activities',\n",
       "  305],\n",
       " ['Soft Skills', 'Arts, entertainment and recreation ', 260],\n",
       " ['Soft Skills', 'Financial and insurance activities', 170],\n",
       " ['Soft Skills', 'Information and communication', 440],\n",
       " ['Soft Skills', 'Manufacturing', 355],\n",
       " ['Soft Skills', 'Mining and quarrying', 55],\n",
       " ['Soft Skills', 'Professional scientific and technical activities', 655],\n",
       " ['Specialized Industry Skills', 'Arts, entertainment and recreation ', 1280],\n",
       " ['Specialized Industry Skills', 'Financial and insurance activities', 350],\n",
       " ['Specialized Industry Skills', 'Information and communication', 1445],\n",
       " ['Specialized Industry Skills', 'Manufacturing', 1635],\n",
       " ['Specialized Industry Skills', 'Mining and quarrying', 360],\n",
       " ['Specialized Industry Skills',\n",
       "  'Professional scientific and technical activities',\n",
       "  2540],\n",
       " ['Tech Skills', 'Arts, entertainment and recreation ', 380],\n",
       " ['Tech Skills', 'Financial and insurance activities', 290],\n",
       " ['Tech Skills', 'Information and communication', 980],\n",
       " ['Tech Skills', 'Manufacturing', 710],\n",
       " ['Tech Skills', 'Mining and quarrying', 125],\n",
       " ['Tech Skills', 'Professional scientific and technical activities', 1020]]"
      ]
     },
     "execution_count": 23,
     "metadata": {},
     "output_type": "execute_result"
    }
   ],
   "source": [
    "df.values.tolist()"
   ]
  },
  {
   "cell_type": "code",
   "execution_count": null,
   "metadata": {},
   "outputs": [],
   "source": []
  }
 ],
 "metadata": {
  "kernelspec": {
   "display_name": "Python 3",
   "language": "python",
   "name": "python3"
  },
  "language_info": {
   "codemirror_mode": {
    "name": "ipython",
    "version": 3
   },
   "file_extension": ".py",
   "mimetype": "text/x-python",
   "name": "python",
   "nbconvert_exporter": "python",
   "pygments_lexer": "ipython3",
   "version": "3.8.5"
  }
 },
 "nbformat": 4,
 "nbformat_minor": 4
}
